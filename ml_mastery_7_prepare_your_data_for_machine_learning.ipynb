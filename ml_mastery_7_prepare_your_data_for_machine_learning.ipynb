{
 "cells": [
  {
   "cell_type": "markdown",
   "metadata": {},
   "source": [
    "# Chapter 7 : Prepare Your Data For Machine Learning"
   ]
  },
  {
   "cell_type": "markdown",
   "metadata": {},
   "source": [
    "## Summary\n",
    "* Rescale data.\n",
    "* Standardize data.\n",
    "* Normalize data.\n",
    "* Binarize data."
   ]
  },
  {
   "cell_type": "markdown",
   "metadata": {},
   "source": [
    "## 7.1 Need For Data Pre-processing"
   ]
  },
  {
   "cell_type": "markdown",
   "metadata": {},
   "source": [
    "We import libs we need for this chapter"
   ]
  },
  {
   "cell_type": "code",
   "execution_count": 2,
   "metadata": {},
   "outputs": [],
   "source": [
    "from pandas import read_csv\n",
    "from numpy import set_printoptions\n",
    "from sklearn.preprocessing import MinMaxScaler\n",
    "from sklearn.preprocessing import StandardScaler\n",
    "from sklearn.preprocessing import Normalizer\n",
    "from numpy import set_printoptions\n",
    "from sklearn.preprocessing import Binarizer\n",
    "from numpy import set_printoptions"
   ]
  },
  {
   "cell_type": "markdown",
   "metadata": {},
   "source": [
    "we load the dataset"
   ]
  },
  {
   "cell_type": "code",
   "execution_count": 3,
   "metadata": {},
   "outputs": [],
   "source": [
    "filename = \"kaggle-house-prices-train.csv\"\n",
    "data = read_csv(filename, index_col=0)"
   ]
  },
  {
   "cell_type": "markdown",
   "metadata": {},
   "source": [
    "We select numeric column "
   ]
  },
  {
   "cell_type": "code",
   "execution_count": 4,
   "metadata": {},
   "outputs": [
    {
     "name": "stdout",
     "output_type": "stream",
     "text": [
      "      MSSubClass  LotFrontage  LotArea  OverallQual  OverallCond  YearBuilt  \\\n",
      "Id                                                                            \n",
      "1             60         65.0     8450            7            5       2003   \n",
      "2             20         80.0     9600            6            8       1976   \n",
      "3             60         68.0    11250            7            5       2001   \n",
      "4             70         60.0     9550            7            5       1915   \n",
      "5             60         84.0    14260            8            5       2000   \n",
      "...          ...          ...      ...          ...          ...        ...   \n",
      "1456          60         62.0     7917            6            5       1999   \n",
      "1457          20         85.0    13175            6            6       1978   \n",
      "1458          70         66.0     9042            7            9       1941   \n",
      "1459          20         68.0     9717            5            6       1950   \n",
      "1460          20         75.0     9937            5            6       1965   \n",
      "\n",
      "      YearRemodAdd  MasVnrArea  BsmtFinSF1  BsmtFinSF2  ...  WoodDeckSF  \\\n",
      "Id                                                      ...               \n",
      "1             2003       196.0         706           0  ...           0   \n",
      "2             1976         0.0         978           0  ...         298   \n",
      "3             2002       162.0         486           0  ...           0   \n",
      "4             1970         0.0         216           0  ...           0   \n",
      "5             2000       350.0         655           0  ...         192   \n",
      "...            ...         ...         ...         ...  ...         ...   \n",
      "1456          2000         0.0           0           0  ...           0   \n",
      "1457          1988       119.0         790         163  ...         349   \n",
      "1458          2006         0.0         275           0  ...           0   \n",
      "1459          1996         0.0          49        1029  ...         366   \n",
      "1460          1965         0.0         830         290  ...         736   \n",
      "\n",
      "      OpenPorchSF  EnclosedPorch  3SsnPorch  ScreenPorch  PoolArea  MiscVal  \\\n",
      "Id                                                                            \n",
      "1              61              0          0            0         0        0   \n",
      "2               0              0          0            0         0        0   \n",
      "3              42              0          0            0         0        0   \n",
      "4              35            272          0            0         0        0   \n",
      "5              84              0          0            0         0        0   \n",
      "...           ...            ...        ...          ...       ...      ...   \n",
      "1456           40              0          0            0         0        0   \n",
      "1457            0              0          0            0         0        0   \n",
      "1458           60              0          0            0         0     2500   \n",
      "1459            0            112          0            0         0        0   \n",
      "1460           68              0          0            0         0        0   \n",
      "\n",
      "      MoSold  YrSold  SalePrice  \n",
      "Id                               \n",
      "1          2    2008     208500  \n",
      "2          5    2007     181500  \n",
      "3          9    2008     223500  \n",
      "4          2    2006     140000  \n",
      "5         12    2008     250000  \n",
      "...      ...     ...        ...  \n",
      "1456       8    2007     175000  \n",
      "1457       2    2010     210000  \n",
      "1458       5    2010     266500  \n",
      "1459       4    2010     142125  \n",
      "1460       6    2008     147500  \n",
      "\n",
      "[1460 rows x 37 columns]\n"
     ]
    }
   ],
   "source": [
    "data_num = data.select_dtypes(exclude=['object'])\n",
    "print(data_num)"
   ]
  },
  {
   "cell_type": "markdown",
   "metadata": {},
   "source": [
    "Split the dataset into the input and output variables for machine learning.\n",
    "* we create an array with the values \n",
    "* we separate array into input and output components"
   ]
  },
  {
   "cell_type": "code",
   "execution_count": 5,
   "metadata": {},
   "outputs": [],
   "source": [
    "array = data_num.values\n",
    "X = array[:,0:36]\n",
    "Y = array[:,36]"
   ]
  },
  {
   "cell_type": "markdown",
   "metadata": {},
   "source": [
    "## 7.3 Rescale Data"
   ]
  },
  {
   "cell_type": "code",
   "execution_count": 6,
   "metadata": {},
   "outputs": [
    {
     "name": "stdout",
     "output_type": "stream",
     "text": [
      "[[0.235 0.151 0.033 0.667 0.5   0.949 0.883 0.122 0.125 0.    0.064 0.14\n",
      "  0.12  0.414 0.    0.259 0.333 0.    0.667 0.5   0.375 0.333 0.5   0.\n",
      "  0.936 0.5   0.386 0.    0.112 0.    0.    0.    0.    0.    0.091 0.5  ]\n",
      " [0.    0.202 0.039 0.556 0.875 0.754 0.433 0.    0.173 0.    0.122 0.207\n",
      "  0.213 0.    0.    0.175 0.    0.5   0.667 0.    0.375 0.333 0.333 0.333\n",
      "  0.691 0.5   0.324 0.348 0.    0.    0.    0.    0.    0.    0.364 0.25 ]\n",
      " [0.235 0.161 0.047 0.667 0.5   0.935 0.867 0.101 0.086 0.    0.186 0.151\n",
      "  0.134 0.419 0.    0.274 0.333 0.    0.667 0.5   0.375 0.333 0.333 0.333\n",
      "  0.918 0.5   0.429 0.    0.077 0.    0.    0.    0.    0.    0.727 0.5  ]\n",
      " [0.294 0.134 0.039 0.667 0.5   0.312 0.333 0.    0.038 0.    0.231 0.124\n",
      "  0.144 0.366 0.    0.261 0.333 0.    0.333 0.    0.375 0.333 0.417 0.333\n",
      "  0.891 0.75  0.453 0.    0.064 0.493 0.    0.    0.    0.    0.091 0.   ]\n",
      " [0.235 0.216 0.061 0.778 0.5   0.928 0.833 0.219 0.116 0.    0.21  0.187\n",
      "  0.186 0.51  0.    0.351 0.333 0.    0.667 0.5   0.5   0.333 0.583 0.333\n",
      "  0.909 0.75  0.59  0.224 0.154 0.    0.    0.    0.    0.    1.    0.5  ]]\n"
     ]
    }
   ],
   "source": [
    "scaler = MinMaxScaler(feature_range=(0, 1))\n",
    "rescaledX = scaler.fit_transform(X)\n",
    "# summarize transformed data\n",
    "set_printoptions(precision=3)\n",
    "print(rescaledX[0:5,:])"
   ]
  },
  {
   "cell_type": "markdown",
   "metadata": {},
   "source": [
    "## 7.4 Standardize Data"
   ]
  },
  {
   "cell_type": "code",
   "execution_count": 7,
   "metadata": {},
   "outputs": [
    {
     "name": "stdout",
     "output_type": "stream",
     "text": [
      "[[ 0.073 -0.208 -0.207  0.651 -0.517  1.051  0.879  0.51   0.575 -0.289\n",
      "  -0.945 -0.459 -0.793  1.162 -0.12   0.37   1.108 -0.241  0.79   1.228\n",
      "   0.164 -0.211  0.912 -0.951  0.992  0.312  0.351 -0.752  0.217 -0.359\n",
      "  -0.116 -0.27  -0.069 -0.088 -1.599  0.139]\n",
      " [-0.873  0.41  -0.092 -0.072  2.18   0.157 -0.43  -0.573  1.172 -0.289\n",
      "  -0.641  0.466  0.257 -0.795 -0.12  -0.483 -0.82   3.949  0.79  -0.762\n",
      "   0.164 -0.211 -0.319  0.6   -0.102  0.312 -0.061  1.626 -0.704 -0.359\n",
      "  -0.116 -0.27  -0.069 -0.088 -0.489 -0.614]\n",
      " [ 0.073 -0.084  0.073  0.651 -0.517  0.985  0.83   0.322  0.093 -0.289\n",
      "  -0.302 -0.313 -0.628  1.189 -0.12   0.515  1.108 -0.241  0.79   1.228\n",
      "   0.164 -0.211 -0.319  0.6    0.911  0.312  0.632 -0.752 -0.07  -0.359\n",
      "  -0.116 -0.27  -0.069 -0.088  0.991  0.139]\n",
      " [ 0.31  -0.414 -0.097  0.651 -0.517 -1.864 -0.72  -0.573 -0.499 -0.289\n",
      "  -0.062 -0.687 -0.522  0.937 -0.12   0.384  1.108 -0.241 -1.026 -0.762\n",
      "   0.164 -0.211  0.297  0.6    0.79   1.65   0.791 -0.752 -0.176  4.093\n",
      "  -0.116 -0.27  -0.069 -0.088 -1.599 -1.368]\n",
      " [ 0.073  0.575  0.375  1.375 -0.517  0.952  0.733  1.361  0.464 -0.289\n",
      "  -0.175  0.2   -0.046  1.618 -0.12   1.299  1.108 -0.241  0.79   1.228\n",
      "   1.39  -0.211  1.528  0.6    0.871  1.65   1.698  0.78   0.564 -0.359\n",
      "  -0.116 -0.27  -0.069 -0.088  2.101  0.139]]\n"
     ]
    }
   ],
   "source": [
    "scaler = StandardScaler().fit(X)\n",
    "rescaledX = scaler.transform(X)\n",
    "# summarize transformed data\n",
    "set_printoptions(precision=3)\n",
    "print(rescaledX[0:5,:])"
   ]
  },
  {
   "cell_type": "markdown",
   "metadata": {},
   "source": [
    "### For the next steps : \n",
    "* We convert all value in Float64\n",
    "* We Drop all the row contain NAN"
   ]
  },
  {
   "cell_type": "code",
   "execution_count": 8,
   "metadata": {},
   "outputs": [],
   "source": [
    "data_float = data_num.astype('float64')\n",
    "data_ok = data_float.dropna()"
   ]
  },
  {
   "cell_type": "markdown",
   "metadata": {},
   "source": [
    "Split the dataset into the input and output variables for machine learning.\n",
    "\n",
    "* we create an array with the values\n",
    "* we separate array into input and output components"
   ]
  },
  {
   "cell_type": "code",
   "execution_count": 9,
   "metadata": {},
   "outputs": [],
   "source": [
    "array = data_ok.values\n",
    "X = array[:,0:36]\n",
    "Y = array[:,36]"
   ]
  },
  {
   "cell_type": "markdown",
   "metadata": {},
   "source": [
    "## 7.5 Normalize Data"
   ]
  },
  {
   "cell_type": "code",
   "execution_count": 10,
   "metadata": {},
   "outputs": [
    {
     "name": "stdout",
     "output_type": "stream",
     "text": [
      "[[6.206e-03 6.724e-03 8.741e-01 7.241e-04 5.172e-04 2.072e-01 2.072e-01\n",
      "  2.027e-02 7.303e-02 0.000e+00 1.552e-02 8.854e-02 8.854e-02 8.834e-02\n",
      "  0.000e+00 1.769e-01 1.034e-04 0.000e+00 2.069e-04 1.034e-04 3.103e-04\n",
      "  1.034e-04 8.275e-04 0.000e+00 2.072e-01 2.069e-04 5.668e-02 0.000e+00\n",
      "  6.310e-03 0.000e+00 0.000e+00 0.000e+00 0.000e+00 0.000e+00 2.069e-04\n",
      "  2.077e-01]\n",
      " [1.873e-03 7.492e-03 8.990e-01 5.619e-04 7.492e-04 1.850e-01 1.850e-01\n",
      "  0.000e+00 9.159e-02 0.000e+00 2.660e-02 1.182e-01 1.182e-01 0.000e+00\n",
      "  0.000e+00 1.182e-01 0.000e+00 9.365e-05 1.873e-04 0.000e+00 2.809e-04\n",
      "  9.365e-05 5.619e-04 9.365e-05 1.850e-01 1.873e-04 4.308e-02 2.791e-02\n",
      "  0.000e+00 0.000e+00 0.000e+00 0.000e+00 0.000e+00 0.000e+00 4.682e-04\n",
      "  1.880e-01]\n",
      " [4.914e-03 5.569e-03 9.214e-01 5.733e-04 4.095e-04 1.639e-01 1.640e-01\n",
      "  1.327e-02 3.980e-02 0.000e+00 3.555e-02 7.535e-02 7.535e-02 7.093e-02\n",
      "  0.000e+00 1.463e-01 8.190e-05 0.000e+00 1.638e-04 8.190e-05 2.457e-04\n",
      "  8.190e-05 4.914e-04 8.190e-05 1.639e-01 1.638e-04 4.980e-02 0.000e+00\n",
      "  3.440e-03 0.000e+00 0.000e+00 0.000e+00 0.000e+00 0.000e+00 7.371e-04\n",
      "  1.645e-01]\n",
      " [6.596e-03 5.654e-03 8.999e-01 6.596e-04 4.712e-04 1.805e-01 1.856e-01\n",
      "  0.000e+00 2.035e-02 0.000e+00 5.089e-02 7.124e-02 9.056e-02 7.124e-02\n",
      "  0.000e+00 1.618e-01 9.423e-05 0.000e+00 9.423e-05 0.000e+00 2.827e-04\n",
      "  9.423e-05 6.596e-04 9.423e-05 1.883e-01 2.827e-04 6.050e-02 0.000e+00\n",
      "  3.298e-03 2.563e-02 0.000e+00 0.000e+00 0.000e+00 0.000e+00 1.885e-04\n",
      "  1.890e-01]\n",
      " [3.961e-03 5.545e-03 9.413e-01 5.281e-04 3.301e-04 1.320e-01 1.320e-01\n",
      "  2.310e-02 4.324e-02 0.000e+00 3.235e-02 7.558e-02 7.558e-02 6.951e-02\n",
      "  0.000e+00 1.451e-01 6.601e-05 0.000e+00 1.320e-04 6.601e-05 2.640e-04\n",
      "  6.601e-05 5.941e-04 6.601e-05 1.320e-01 1.980e-04 5.519e-02 1.267e-02\n",
      "  5.545e-03 0.000e+00 0.000e+00 0.000e+00 0.000e+00 0.000e+00 7.921e-04\n",
      "  1.326e-01]]\n"
     ]
    }
   ],
   "source": [
    "scaler = Normalizer().fit(X)\n",
    "normalizedX = scaler.transform(X)\n",
    "# summarize transformed data\n",
    "set_printoptions(precision=3)\n",
    "print(normalizedX[0:5,:])"
   ]
  },
  {
   "cell_type": "markdown",
   "metadata": {},
   "source": [
    "## 7.6 Binarize Data (Make Binary)"
   ]
  },
  {
   "cell_type": "code",
   "execution_count": 11,
   "metadata": {},
   "outputs": [
    {
     "name": "stdout",
     "output_type": "stream",
     "text": [
      "[[1. 1. 1. 1. 1. 1. 1. 1. 1. 0. 1. 1. 1. 1. 0. 1. 1. 0. 1. 1. 1. 1. 1. 0.\n",
      "  1. 1. 1. 0. 1. 0. 0. 0. 0. 0. 1. 1.]\n",
      " [1. 1. 1. 1. 1. 1. 1. 0. 1. 0. 1. 1. 1. 0. 0. 1. 0. 1. 1. 0. 1. 1. 1. 1.\n",
      "  1. 1. 1. 1. 0. 0. 0. 0. 0. 0. 1. 1.]\n",
      " [1. 1. 1. 1. 1. 1. 1. 1. 1. 0. 1. 1. 1. 1. 0. 1. 1. 0. 1. 1. 1. 1. 1. 1.\n",
      "  1. 1. 1. 0. 1. 0. 0. 0. 0. 0. 1. 1.]\n",
      " [1. 1. 1. 1. 1. 1. 1. 0. 1. 0. 1. 1. 1. 1. 0. 1. 1. 0. 1. 0. 1. 1. 1. 1.\n",
      "  1. 1. 1. 0. 1. 1. 0. 0. 0. 0. 1. 1.]\n",
      " [1. 1. 1. 1. 1. 1. 1. 1. 1. 0. 1. 1. 1. 1. 0. 1. 1. 0. 1. 1. 1. 1. 1. 1.\n",
      "  1. 1. 1. 1. 1. 0. 0. 0. 0. 0. 1. 1.]]\n"
     ]
    }
   ],
   "source": [
    "binarizer = Binarizer(threshold=0.0).fit(X)\n",
    "binaryX = binarizer.transform(X)\n",
    "# summarize transformed data\n",
    "set_printoptions(precision=3)\n",
    "print(binaryX[0:5,:])"
   ]
  },
  {
   "cell_type": "code",
   "execution_count": null,
   "metadata": {},
   "outputs": [],
   "source": []
  }
 ],
 "metadata": {
  "kernelspec": {
   "display_name": "Python 3",
   "language": "python",
   "name": "python3"
  },
  "language_info": {
   "codemirror_mode": {
    "name": "ipython",
    "version": 3
   },
   "file_extension": ".py",
   "mimetype": "text/x-python",
   "name": "python",
   "nbconvert_exporter": "python",
   "pygments_lexer": "ipython3",
   "version": "3.7.3"
  }
 },
 "nbformat": 4,
 "nbformat_minor": 2
}
