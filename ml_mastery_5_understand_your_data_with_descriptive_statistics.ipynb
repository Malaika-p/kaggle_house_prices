{
 "cells": [
  {
   "cell_type": "markdown",
   "metadata": {},
   "source": [
    "# chapter 5 : Understand Your Data With Descriptive Statistics"
   ]
  },
  {
   "cell_type": "markdown",
   "metadata": {},
   "source": [
    "## Summary\n",
    "* Peek At Your Data.\n",
    "* Dimensions of Your Data.\n",
    "* Data Types.\n",
    "* Class Distribution.\n",
    "* Data Summary.\n",
    "* Correlations.\n",
    "* Skewness."
   ]
  },
  {
   "cell_type": "markdown",
   "metadata": {},
   "source": [
    "We import libs we need for this chapter"
   ]
  },
  {
   "cell_type": "code",
   "execution_count": 1,
   "metadata": {},
   "outputs": [],
   "source": [
    "from pandas import read_csv\n",
    "from pandas import set_option"
   ]
  },
  {
   "cell_type": "markdown",
   "metadata": {},
   "source": [
    "We load the dataset"
   ]
  },
  {
   "cell_type": "code",
   "execution_count": 2,
   "metadata": {},
   "outputs": [],
   "source": [
    "filename = \"kaggle-house-prices-train.csv\"\n",
    "data = read_csv(filename, index_col=0)"
   ]
  },
  {
   "cell_type": "markdown",
   "metadata": {},
   "source": [
    "## 5.1 Peek at Your Data"
   ]
  },
  {
   "cell_type": "code",
   "execution_count": 3,
   "metadata": {},
   "outputs": [
    {
     "name": "stdout",
     "output_type": "stream",
     "text": [
      "    MSSubClass MSZoning  LotFrontage  LotArea Street Alley LotShape  \\\n",
      "Id                                                                    \n",
      "1           60       RL         65.0     8450   Pave   NaN      Reg   \n",
      "2           20       RL         80.0     9600   Pave   NaN      Reg   \n",
      "3           60       RL         68.0    11250   Pave   NaN      IR1   \n",
      "4           70       RL         60.0     9550   Pave   NaN      IR1   \n",
      "5           60       RL         84.0    14260   Pave   NaN      IR1   \n",
      "6           50       RL         85.0    14115   Pave   NaN      IR1   \n",
      "7           20       RL         75.0    10084   Pave   NaN      Reg   \n",
      "8           60       RL          NaN    10382   Pave   NaN      IR1   \n",
      "9           50       RM         51.0     6120   Pave   NaN      Reg   \n",
      "10         190       RL         50.0     7420   Pave   NaN      Reg   \n",
      "11          20       RL         70.0    11200   Pave   NaN      Reg   \n",
      "12          60       RL         85.0    11924   Pave   NaN      IR1   \n",
      "13          20       RL          NaN    12968   Pave   NaN      IR2   \n",
      "14          20       RL         91.0    10652   Pave   NaN      IR1   \n",
      "15          20       RL          NaN    10920   Pave   NaN      IR1   \n",
      "16          45       RM         51.0     6120   Pave   NaN      Reg   \n",
      "17          20       RL          NaN    11241   Pave   NaN      IR1   \n",
      "18          90       RL         72.0    10791   Pave   NaN      Reg   \n",
      "19          20       RL         66.0    13695   Pave   NaN      Reg   \n",
      "20          20       RL         70.0     7560   Pave   NaN      Reg   \n",
      "\n",
      "   LandContour Utilities LotConfig  ... PoolArea PoolQC  Fence MiscFeature  \\\n",
      "Id                                  ...                                      \n",
      "1          Lvl    AllPub    Inside  ...        0    NaN    NaN         NaN   \n",
      "2          Lvl    AllPub       FR2  ...        0    NaN    NaN         NaN   \n",
      "3          Lvl    AllPub    Inside  ...        0    NaN    NaN         NaN   \n",
      "4          Lvl    AllPub    Corner  ...        0    NaN    NaN         NaN   \n",
      "5          Lvl    AllPub       FR2  ...        0    NaN    NaN         NaN   \n",
      "6          Lvl    AllPub    Inside  ...        0    NaN  MnPrv        Shed   \n",
      "7          Lvl    AllPub    Inside  ...        0    NaN    NaN         NaN   \n",
      "8          Lvl    AllPub    Corner  ...        0    NaN    NaN        Shed   \n",
      "9          Lvl    AllPub    Inside  ...        0    NaN    NaN         NaN   \n",
      "10         Lvl    AllPub    Corner  ...        0    NaN    NaN         NaN   \n",
      "11         Lvl    AllPub    Inside  ...        0    NaN    NaN         NaN   \n",
      "12         Lvl    AllPub    Inside  ...        0    NaN    NaN         NaN   \n",
      "13         Lvl    AllPub    Inside  ...        0    NaN    NaN         NaN   \n",
      "14         Lvl    AllPub    Inside  ...        0    NaN    NaN         NaN   \n",
      "15         Lvl    AllPub    Corner  ...        0    NaN   GdWo         NaN   \n",
      "16         Lvl    AllPub    Corner  ...        0    NaN  GdPrv         NaN   \n",
      "17         Lvl    AllPub   CulDSac  ...        0    NaN    NaN        Shed   \n",
      "18         Lvl    AllPub    Inside  ...        0    NaN    NaN        Shed   \n",
      "19         Lvl    AllPub    Inside  ...        0    NaN    NaN         NaN   \n",
      "20         Lvl    AllPub    Inside  ...        0    NaN  MnPrv         NaN   \n",
      "\n",
      "   MiscVal MoSold  YrSold  SaleType  SaleCondition  SalePrice  \n",
      "Id                                                             \n",
      "1        0      2    2008        WD         Normal     208500  \n",
      "2        0      5    2007        WD         Normal     181500  \n",
      "3        0      9    2008        WD         Normal     223500  \n",
      "4        0      2    2006        WD        Abnorml     140000  \n",
      "5        0     12    2008        WD         Normal     250000  \n",
      "6      700     10    2009        WD         Normal     143000  \n",
      "7        0      8    2007        WD         Normal     307000  \n",
      "8      350     11    2009        WD         Normal     200000  \n",
      "9        0      4    2008        WD        Abnorml     129900  \n",
      "10       0      1    2008        WD         Normal     118000  \n",
      "11       0      2    2008        WD         Normal     129500  \n",
      "12       0      7    2006       New        Partial     345000  \n",
      "13       0      9    2008        WD         Normal     144000  \n",
      "14       0      8    2007       New        Partial     279500  \n",
      "15       0      5    2008        WD         Normal     157000  \n",
      "16       0      7    2007        WD         Normal     132000  \n",
      "17     700      3    2010        WD         Normal     149000  \n",
      "18     500     10    2006        WD         Normal      90000  \n",
      "19       0      6    2008        WD         Normal     159000  \n",
      "20       0      5    2009       COD        Abnorml     139000  \n",
      "\n",
      "[20 rows x 80 columns]\n"
     ]
    }
   ],
   "source": [
    "peek = data.head(20)\n",
    "print(peek)"
   ]
  },
  {
   "cell_type": "markdown",
   "metadata": {},
   "source": [
    "## 5.2 Dimensions of Your Data"
   ]
  },
  {
   "cell_type": "code",
   "execution_count": 4,
   "metadata": {},
   "outputs": [
    {
     "name": "stdout",
     "output_type": "stream",
     "text": [
      "(1460, 80)\n"
     ]
    }
   ],
   "source": [
    "shape = data.shape\n",
    "print(shape)"
   ]
  },
  {
   "cell_type": "markdown",
   "metadata": {},
   "source": [
    "## 5.3 Data Type For Each Attribute"
   ]
  },
  {
   "cell_type": "code",
   "execution_count": 5,
   "metadata": {},
   "outputs": [
    {
     "name": "stdout",
     "output_type": "stream",
     "text": [
      "MSSubClass         int64\n",
      "MSZoning          object\n",
      "LotFrontage      float64\n",
      "LotArea            int64\n",
      "Street            object\n",
      "                  ...   \n",
      "MoSold             int64\n",
      "YrSold             int64\n",
      "SaleType          object\n",
      "SaleCondition     object\n",
      "SalePrice          int64\n",
      "Length: 80, dtype: object\n"
     ]
    }
   ],
   "source": [
    "types = data.dtypes\n",
    "print(types)"
   ]
  },
  {
   "cell_type": "markdown",
   "metadata": {},
   "source": [
    "## 5.4 Descriptive Statistics"
   ]
  },
  {
   "cell_type": "code",
   "execution_count": 6,
   "metadata": {},
   "outputs": [
    {
     "name": "stdout",
     "output_type": "stream",
     "text": [
      "       MSSubClass  LotFrontage     LotArea  OverallQual  OverallCond  YearBuilt  YearRemodAdd  \\\n",
      "count    1460.000     1201.000    1460.000     1460.000     1460.000   1460.000      1460.000   \n",
      "mean       56.897       70.050   10516.828        6.099        5.575   1971.268      1984.866   \n",
      "std        42.301       24.285    9981.265        1.383        1.113     30.203        20.645   \n",
      "min        20.000       21.000    1300.000        1.000        1.000   1872.000      1950.000   \n",
      "25%        20.000       59.000    7553.500        5.000        5.000   1954.000      1967.000   \n",
      "50%        50.000       69.000    9478.500        6.000        5.000   1973.000      1994.000   \n",
      "75%        70.000       80.000   11601.500        7.000        6.000   2000.000      2004.000   \n",
      "max       190.000      313.000  215245.000       10.000        9.000   2010.000      2010.000   \n",
      "\n",
      "       MasVnrArea  BsmtFinSF1  BsmtFinSF2  ...  WoodDeckSF  OpenPorchSF  EnclosedPorch  3SsnPorch  \\\n",
      "count    1452.000    1460.000    1460.000  ...    1460.000     1460.000       1460.000   1460.000   \n",
      "mean      103.685     443.640      46.549  ...      94.245       46.660         21.954      3.410   \n",
      "std       181.066     456.098     161.319  ...     125.339       66.256         61.119     29.317   \n",
      "min         0.000       0.000       0.000  ...       0.000        0.000          0.000      0.000   \n",
      "25%         0.000       0.000       0.000  ...       0.000        0.000          0.000      0.000   \n",
      "50%         0.000     383.500       0.000  ...       0.000       25.000          0.000      0.000   \n",
      "75%       166.000     712.250       0.000  ...     168.000       68.000          0.000      0.000   \n",
      "max      1600.000    5644.000    1474.000  ...     857.000      547.000        552.000    508.000   \n",
      "\n",
      "       ScreenPorch  PoolArea    MiscVal    MoSold    YrSold   SalePrice  \n",
      "count     1460.000  1460.000   1460.000  1460.000  1460.000    1460.000  \n",
      "mean        15.061     2.759     43.489     6.322  2007.816  180921.196  \n",
      "std         55.757    40.177    496.123     2.704     1.328   79442.503  \n",
      "min          0.000     0.000      0.000     1.000  2006.000   34900.000  \n",
      "25%          0.000     0.000      0.000     5.000  2007.000  129975.000  \n",
      "50%          0.000     0.000      0.000     6.000  2008.000  163000.000  \n",
      "75%          0.000     0.000      0.000     8.000  2009.000  214000.000  \n",
      "max        480.000   738.000  15500.000    12.000  2010.000  755000.000  \n",
      "\n",
      "[8 rows x 37 columns]\n"
     ]
    }
   ],
   "source": [
    "set_option('display.width', 100)\n",
    "set_option('precision', 3)\n",
    "description = data.describe()\n",
    "print(description)"
   ]
  },
  {
   "cell_type": "markdown",
   "metadata": {},
   "source": [
    "## 5.5 Class Distribution (Classification Only)"
   ]
  },
  {
   "cell_type": "code",
   "execution_count": 7,
   "metadata": {},
   "outputs": [
    {
     "name": "stdout",
     "output_type": "stream",
     "text": [
      "SaleType\n",
      "COD        43\n",
      "CWD         4\n",
      "Con         2\n",
      "ConLD       9\n",
      "ConLI       5\n",
      "ConLw       5\n",
      "New       122\n",
      "Oth         3\n",
      "WD       1267\n",
      "dtype: int64\n"
     ]
    }
   ],
   "source": [
    "class_counts = data.groupby('SaleType').size()\n",
    "print(class_counts)"
   ]
  },
  {
   "cell_type": "markdown",
   "metadata": {},
   "source": [
    "## 5.6 Correlations Between Attributes\n",
    "Correlation refers to the relationship between two variables and how they may or may not\n",
    "change together."
   ]
  },
  {
   "cell_type": "code",
   "execution_count": 8,
   "metadata": {},
   "outputs": [
    {
     "name": "stdout",
     "output_type": "stream",
     "text": [
      "               MSSubClass  LotFrontage  LotArea  OverallQual  OverallCond  YearBuilt  \\\n",
      "MSSubClass          1.000       -0.386   -0.140        0.033       -0.059      0.028   \n",
      "LotFrontage        -0.386        1.000    0.426        0.252       -0.059      0.123   \n",
      "LotArea            -0.140        0.426    1.000        0.106       -0.006      0.014   \n",
      "OverallQual         0.033        0.252    0.106        1.000       -0.092      0.572   \n",
      "OverallCond        -0.059       -0.059   -0.006       -0.092        1.000     -0.376   \n",
      "YearBuilt           0.028        0.123    0.014        0.572       -0.376      1.000   \n",
      "YearRemodAdd        0.041        0.089    0.014        0.551        0.074      0.593   \n",
      "MasVnrArea          0.023        0.193    0.104        0.412       -0.128      0.316   \n",
      "BsmtFinSF1         -0.070        0.234    0.214        0.240       -0.046      0.250   \n",
      "BsmtFinSF2         -0.066        0.050    0.111       -0.059        0.040     -0.049   \n",
      "BsmtUnfSF          -0.141        0.133   -0.003        0.308       -0.137      0.149   \n",
      "TotalBsmtSF        -0.239        0.392    0.261        0.538       -0.171      0.391   \n",
      "1stFlrSF           -0.252        0.457    0.299        0.476       -0.144      0.282   \n",
      "2ndFlrSF            0.308        0.080    0.051        0.295        0.029      0.010   \n",
      "LowQualFinSF        0.046        0.038    0.005       -0.030        0.025     -0.184   \n",
      "GrLivArea           0.075        0.403    0.263        0.593       -0.080      0.199   \n",
      "BsmtFullBath        0.003        0.101    0.158        0.111       -0.055      0.188   \n",
      "BsmtHalfBath       -0.002       -0.007    0.048       -0.040        0.118     -0.038   \n",
      "FullBath            0.132        0.199    0.126        0.551       -0.194      0.468   \n",
      "HalfBath            0.177        0.054    0.014        0.273       -0.061      0.243   \n",
      "BedroomAbvGr       -0.023        0.263    0.120        0.102        0.013     -0.071   \n",
      "KitchenAbvGr        0.282       -0.006   -0.018       -0.184       -0.087     -0.175   \n",
      "TotRmsAbvGrd        0.040        0.352    0.190        0.427       -0.058      0.096   \n",
      "Fireplaces         -0.046        0.267    0.271        0.397       -0.024      0.148   \n",
      "GarageYrBlt         0.085        0.070   -0.025        0.548       -0.324      0.826   \n",
      "GarageCars         -0.040        0.286    0.155        0.601       -0.186      0.538   \n",
      "GarageArea         -0.099        0.345    0.180        0.562       -0.152      0.479   \n",
      "WoodDeckSF         -0.013        0.089    0.172        0.239       -0.003      0.225   \n",
      "OpenPorchSF        -0.006        0.152    0.085        0.309       -0.033      0.189   \n",
      "EnclosedPorch      -0.012        0.011   -0.018       -0.114        0.070     -0.387   \n",
      "3SsnPorch          -0.044        0.070    0.020        0.030        0.026      0.031   \n",
      "ScreenPorch        -0.026        0.041    0.043        0.065        0.055     -0.050   \n",
      "PoolArea            0.008        0.206    0.078        0.065       -0.002      0.005   \n",
      "MiscVal            -0.008        0.003    0.038       -0.031        0.069     -0.034   \n",
      "MoSold             -0.014        0.011    0.001        0.071       -0.004      0.012   \n",
      "YrSold             -0.021        0.007   -0.014       -0.027        0.044     -0.014   \n",
      "SalePrice          -0.084        0.352    0.264        0.791       -0.078      0.523   \n",
      "\n",
      "               YearRemodAdd  MasVnrArea  BsmtFinSF1  BsmtFinSF2  ...  WoodDeckSF  OpenPorchSF  \\\n",
      "MSSubClass            0.041       0.023      -0.070      -0.066  ...      -0.013       -0.006   \n",
      "LotFrontage           0.089       0.193       0.234       0.050  ...       0.089        0.152   \n",
      "LotArea               0.014       0.104       0.214       0.111  ...       0.172        0.085   \n",
      "OverallQual           0.551       0.412       0.240      -0.059  ...       0.239        0.309   \n",
      "OverallCond           0.074      -0.128      -0.046       0.040  ...      -0.003       -0.033   \n",
      "YearBuilt             0.593       0.316       0.250      -0.049  ...       0.225        0.189   \n",
      "YearRemodAdd          1.000       0.180       0.128      -0.068  ...       0.206        0.226   \n",
      "MasVnrArea            0.180       1.000       0.265      -0.072  ...       0.160        0.126   \n",
      "BsmtFinSF1            0.128       0.265       1.000      -0.050  ...       0.204        0.112   \n",
      "BsmtFinSF2           -0.068      -0.072      -0.050       1.000  ...       0.068        0.003   \n",
      "BsmtUnfSF             0.181       0.114      -0.495      -0.209  ...      -0.005        0.129   \n",
      "TotalBsmtSF           0.291       0.364       0.522       0.105  ...       0.232        0.247   \n",
      "1stFlrSF              0.240       0.345       0.446       0.097  ...       0.235        0.212   \n",
      "2ndFlrSF              0.140       0.175      -0.137      -0.099  ...       0.092        0.208   \n",
      "LowQualFinSF         -0.062      -0.069      -0.065       0.015  ...      -0.025        0.018   \n",
      "GrLivArea             0.287       0.391       0.208      -0.010  ...       0.247        0.330   \n",
      "BsmtFullBath          0.119       0.085       0.649       0.159  ...       0.175        0.067   \n",
      "BsmtHalfBath         -0.012       0.027       0.067       0.071  ...       0.040       -0.025   \n",
      "FullBath              0.439       0.277       0.059      -0.076  ...       0.188        0.260   \n",
      "HalfBath              0.183       0.201       0.004      -0.032  ...       0.108        0.200   \n",
      "BedroomAbvGr         -0.041       0.103      -0.107      -0.016  ...       0.047        0.094   \n",
      "KitchenAbvGr         -0.150      -0.038      -0.081      -0.041  ...      -0.090       -0.070   \n",
      "TotRmsAbvGrd          0.192       0.281       0.044      -0.035  ...       0.166        0.234   \n",
      "Fireplaces            0.113       0.249       0.260       0.047  ...       0.200        0.169   \n",
      "GarageYrBlt           0.642       0.253       0.153      -0.088  ...       0.225        0.228   \n",
      "GarageCars            0.421       0.364       0.224      -0.038  ...       0.226        0.214   \n",
      "GarageArea            0.372       0.373       0.297      -0.018  ...       0.225        0.241   \n",
      "WoodDeckSF            0.206       0.160       0.204       0.068  ...       1.000        0.059   \n",
      "OpenPorchSF           0.226       0.126       0.112       0.003  ...       0.059        1.000   \n",
      "EnclosedPorch        -0.194      -0.110      -0.102       0.037  ...      -0.126       -0.093   \n",
      "3SsnPorch             0.045       0.019       0.026      -0.030  ...      -0.033       -0.006   \n",
      "ScreenPorch          -0.039       0.061       0.062       0.089  ...      -0.074        0.074   \n",
      "PoolArea              0.006       0.012       0.140       0.042  ...       0.073        0.061   \n",
      "MiscVal              -0.010      -0.030       0.004       0.005  ...      -0.010       -0.019   \n",
      "MoSold                0.021      -0.006      -0.016      -0.015  ...       0.021        0.071   \n",
      "YrSold                0.036      -0.008       0.014       0.032  ...       0.022       -0.058   \n",
      "SalePrice             0.507       0.477       0.386      -0.011  ...       0.324        0.316   \n",
      "\n",
      "               EnclosedPorch  3SsnPorch  ScreenPorch  PoolArea    MiscVal  MoSold  YrSold  \\\n",
      "MSSubClass            -0.012 -4.382e-02       -0.026     0.008 -7.683e-03  -0.014  -0.021   \n",
      "LotFrontage            0.011  7.003e-02        0.041     0.206  3.368e-03   0.011   0.007   \n",
      "LotArea               -0.018  2.042e-02        0.043     0.078  3.807e-02   0.001  -0.014   \n",
      "OverallQual           -0.114  3.037e-02        0.065     0.065 -3.141e-02   0.071  -0.027   \n",
      "OverallCond            0.070  2.550e-02        0.055    -0.002  6.878e-02  -0.004   0.044   \n",
      "YearBuilt             -0.387  3.135e-02       -0.050     0.005 -3.438e-02   0.012  -0.014   \n",
      "YearRemodAdd          -0.194  4.529e-02       -0.039     0.006 -1.029e-02   0.021   0.036   \n",
      "MasVnrArea            -0.110  1.880e-02        0.061     0.012 -2.982e-02  -0.006  -0.008   \n",
      "BsmtFinSF1            -0.102  2.645e-02        0.062     0.140  3.571e-03  -0.016   0.014   \n",
      "BsmtFinSF2             0.037 -2.999e-02        0.089     0.042  4.940e-03  -0.015   0.032   \n",
      "BsmtUnfSF             -0.003  2.076e-02       -0.013    -0.035 -2.384e-02   0.035  -0.041   \n",
      "TotalBsmtSF           -0.095  3.738e-02        0.084     0.126 -1.848e-02   0.013  -0.015   \n",
      "1stFlrSF              -0.065  5.610e-02        0.089     0.132 -2.110e-02   0.031  -0.014   \n",
      "2ndFlrSF               0.062 -2.436e-02        0.041     0.081  1.620e-02   0.035  -0.029   \n",
      "LowQualFinSF           0.061 -4.296e-03        0.027     0.062 -3.793e-03  -0.022  -0.029   \n",
      "GrLivArea              0.009  2.064e-02        0.102     0.170 -2.416e-03   0.050  -0.037   \n",
      "BsmtFullBath          -0.050 -1.061e-04        0.023     0.068 -2.305e-02  -0.025   0.067   \n",
      "BsmtHalfBath          -0.009  3.511e-02        0.032     0.020 -7.367e-03   0.033  -0.047   \n",
      "FullBath              -0.115  3.535e-02       -0.008     0.050 -1.429e-02   0.056  -0.020   \n",
      "HalfBath              -0.095 -4.972e-03        0.072     0.022  1.290e-03  -0.009  -0.010   \n",
      "BedroomAbvGr           0.042 -2.448e-02        0.044     0.071  7.767e-03   0.047  -0.036   \n",
      "KitchenAbvGr           0.037 -2.460e-02       -0.052    -0.015  6.234e-02   0.027   0.032   \n",
      "TotRmsAbvGrd           0.004 -6.683e-03        0.059     0.084  2.476e-02   0.037  -0.035   \n",
      "Fireplaces            -0.025  1.126e-02        0.185     0.095  1.409e-03   0.046  -0.024   \n",
      "GarageYrBlt           -0.297  2.354e-02       -0.075    -0.015 -3.242e-02   0.005  -0.001   \n",
      "GarageCars            -0.151  3.577e-02        0.050     0.021 -4.308e-02   0.041  -0.039   \n",
      "GarageArea            -0.122  3.509e-02        0.051     0.061 -2.740e-02   0.028  -0.027   \n",
      "WoodDeckSF            -0.126 -3.277e-02       -0.074     0.073 -9.551e-03   0.021   0.022   \n",
      "OpenPorchSF           -0.093 -5.842e-03        0.074     0.061 -1.858e-02   0.071  -0.058   \n",
      "EnclosedPorch          1.000 -3.731e-02       -0.083     0.054  1.836e-02  -0.029  -0.010   \n",
      "3SsnPorch             -0.037  1.000e+00       -0.031    -0.008  3.540e-04   0.029   0.019   \n",
      "ScreenPorch           -0.083 -3.144e-02        1.000     0.051  3.195e-02   0.023   0.011   \n",
      "PoolArea               0.054 -7.992e-03        0.051     1.000  2.967e-02  -0.034  -0.060   \n",
      "MiscVal                0.018  3.540e-04        0.032     0.030  1.000e+00  -0.006   0.005   \n",
      "MoSold                -0.029  2.947e-02        0.023    -0.034 -6.495e-03   1.000  -0.146   \n",
      "YrSold                -0.010  1.864e-02        0.011    -0.060  4.906e-03  -0.146   1.000   \n",
      "SalePrice             -0.129  4.458e-02        0.111     0.092 -2.119e-02   0.046  -0.029   \n",
      "\n",
      "               SalePrice  \n",
      "MSSubClass        -0.084  \n",
      "LotFrontage        0.352  \n",
      "LotArea            0.264  \n",
      "OverallQual        0.791  \n",
      "OverallCond       -0.078  \n",
      "YearBuilt          0.523  \n",
      "YearRemodAdd       0.507  \n",
      "MasVnrArea         0.477  \n",
      "BsmtFinSF1         0.386  \n",
      "BsmtFinSF2        -0.011  \n",
      "BsmtUnfSF          0.214  \n",
      "TotalBsmtSF        0.614  \n",
      "1stFlrSF           0.606  \n",
      "2ndFlrSF           0.319  \n",
      "LowQualFinSF      -0.026  \n",
      "GrLivArea          0.709  \n",
      "BsmtFullBath       0.227  \n",
      "BsmtHalfBath      -0.017  \n",
      "FullBath           0.561  \n",
      "HalfBath           0.284  \n",
      "BedroomAbvGr       0.168  \n",
      "KitchenAbvGr      -0.136  \n",
      "TotRmsAbvGrd       0.534  \n",
      "Fireplaces         0.467  \n",
      "GarageYrBlt        0.486  \n",
      "GarageCars         0.640  \n",
      "GarageArea         0.623  \n",
      "WoodDeckSF         0.324  \n",
      "OpenPorchSF        0.316  \n",
      "EnclosedPorch     -0.129  \n",
      "3SsnPorch          0.045  \n",
      "ScreenPorch        0.111  \n",
      "PoolArea           0.092  \n",
      "MiscVal           -0.021  \n",
      "MoSold             0.046  \n",
      "YrSold            -0.029  \n",
      "SalePrice          1.000  \n",
      "\n",
      "[37 rows x 37 columns]\n"
     ]
    }
   ],
   "source": [
    "set_option('display.width', 100)\n",
    "set_option('precision', 3)\n",
    "correlations = data.corr(method='pearson')\n",
    "print(correlations)"
   ]
  },
  {
   "cell_type": "markdown",
   "metadata": {},
   "source": [
    "## 5.7 Skew of Univariate Distributions\n",
    "Skew refers to a distribution that is assumed Gaussian (normal or bell curve) that is shifted or\n",
    "squashed in one direction or another.\n",
    "The skew result show a positive (right) or negative (left) skew. Values closer to zero show\n",
    "less skew."
   ]
  },
  {
   "cell_type": "code",
   "execution_count": 9,
   "metadata": {},
   "outputs": [
    {
     "name": "stdout",
     "output_type": "stream",
     "text": [
      "MSSubClass        1.408\n",
      "LotFrontage       2.164\n",
      "LotArea          12.208\n",
      "OverallQual       0.217\n",
      "OverallCond       0.693\n",
      "YearBuilt        -0.613\n",
      "YearRemodAdd     -0.504\n",
      "MasVnrArea        2.669\n",
      "BsmtFinSF1        1.686\n",
      "BsmtFinSF2        4.255\n",
      "BsmtUnfSF         0.920\n",
      "TotalBsmtSF       1.524\n",
      "1stFlrSF          1.377\n",
      "2ndFlrSF          0.813\n",
      "LowQualFinSF      9.011\n",
      "GrLivArea         1.367\n",
      "BsmtFullBath      0.596\n",
      "BsmtHalfBath      4.103\n",
      "FullBath          0.037\n",
      "HalfBath          0.676\n",
      "BedroomAbvGr      0.212\n",
      "KitchenAbvGr      4.488\n",
      "TotRmsAbvGrd      0.676\n",
      "Fireplaces        0.650\n",
      "GarageYrBlt      -0.649\n",
      "GarageCars       -0.343\n",
      "GarageArea        0.180\n",
      "WoodDeckSF        1.541\n",
      "OpenPorchSF       2.364\n",
      "EnclosedPorch     3.090\n",
      "3SsnPorch        10.304\n",
      "ScreenPorch       4.122\n",
      "PoolArea         14.828\n",
      "MiscVal          24.477\n",
      "MoSold            0.212\n",
      "YrSold            0.096\n",
      "SalePrice         1.883\n",
      "dtype: float64\n"
     ]
    }
   ],
   "source": [
    "skew = data.skew()\n",
    "print(skew)"
   ]
  }
 ],
 "metadata": {
  "kernelspec": {
   "display_name": "Python 3",
   "language": "python",
   "name": "python3"
  },
  "language_info": {
   "codemirror_mode": {
    "name": "ipython",
    "version": 3
   },
   "file_extension": ".py",
   "mimetype": "text/x-python",
   "name": "python",
   "nbconvert_exporter": "python",
   "pygments_lexer": "ipython3",
   "version": "3.7.3"
  }
 },
 "nbformat": 4,
 "nbformat_minor": 2
}
